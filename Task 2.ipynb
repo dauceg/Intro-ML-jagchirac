{
 "cells": [
  {
   "cell_type": "code",
   "execution_count": 76,
   "metadata": {},
   "outputs": [],
   "source": [
    "# ----- IMPORTING THE DATA AND LIBRARIES\n",
    "\n",
    "import csv\n",
    "import pandas\n",
    "import numpy as np\n",
    "import matplotlib.pyplot as plt\n",
    "import numpy as np\n",
    "\n",
    "# Constants\n",
    "N_TData = 2000;   # Training data set contains 2000 elements\n",
    "\n",
    "# Train data\n",
    "ID  = np.zeros(N_TData)\n",
    "y   = np.zeros(N_TData)\n",
    "x1  = np.zeros(N_TData)\n",
    "x2  = np.zeros(N_TData)\n",
    "x3  = np.zeros(N_TData)\n",
    "x4  = np.zeros(N_TData)\n",
    "x5  = np.zeros(N_TData)\n",
    "x6  = np.zeros(N_TData)\n",
    "x7  = np.zeros(N_TData)\n",
    "x8  = np.zeros(N_TData)\n",
    "x9  = np.zeros(N_TData)\n",
    "x10 = np.zeros(N_TData)\n",
    "x11 = np.zeros(N_TData)\n",
    "x12 = np.zeros(N_TData)\n",
    "x13 = np.zeros(N_TData)\n",
    "x14 = np.zeros(N_TData)\n",
    "x15 = np.zeros(N_TData)\n",
    "x16 = np.zeros(N_TData)\n",
    "\n",
    "# Reading the training data\n",
    "with open('train.csv') as csvfile:\n",
    "    reader = csv.DictReader(csvfile, delimiter = ',')\n",
    "    for row in reader:\n",
    "        ID[int(row['Id'])] = row['Id']\n",
    "        y[int(row['Id'])]  = np.float64(row['y'])\n",
    "        x1[int(row['Id'])] = np.float64(row['x1'])\n",
    "        x2[int(row['Id'])] = np.float64(row['x2'])\n",
    "        x3[int(row['Id'])] = np.float64(row['x3'])\n",
    "        x4[int(row['Id'])] = np.float64(row['x4'])\n",
    "        x5[int(row['Id'])] = np.float64(row['x5'])\n",
    "        x6[int(row['Id'])] = np.float64(row['x6'])\n",
    "        x7[int(row['Id'])] = np.float64(row['x7'])\n",
    "        x8[int(row['Id'])] = np.float64(row['x8'])\n",
    "        x9[int(row['Id'])] = np.float64(row['x9'])\n",
    "        x10[int(row['Id'])]= np.float64(row['x10'])\n",
    "        x11[int(row['Id'])] = np.float64(row['x11'])\n",
    "        x12[int(row['Id'])] = np.float64(row['x12'])\n",
    "        x13[int(row['Id'])] = np.float64(row['x13'])\n",
    "        x14[int(row['Id'])] = np.float64(row['x14'])\n",
    "        x15[int(row['Id'])]= np.float64(row['x15'])\n",
    "        x16[int(row['Id'])]= np.float64(row['x16'])\n",
    "        \n",
    "XTrain = (np.vstack((x1,x2,x3,x4,x5,x6,x7,x8,x9,x10,x11,x12,x13,x14,x15,x16))).T"
   ]
  },
  {
   "cell_type": "code",
   "execution_count": 77,
   "metadata": {},
   "outputs": [],
   "source": [
    "# Constructing a pipeline and set desired classifier\n",
    "\n",
    "from sklearn.svm import SVC\n",
    "from sklearn.pipeline import Pipeline\n",
    "from sklearn.preprocessing import StandardScaler\n",
    "from sklearn.multiclass import OneVsRestClassifier, OneVsOneClassifier\n",
    "\n",
    "svm_est = Pipeline([('scaler', StandardScaler()),('svc',OneVsOneClassifier(SVC()))])"
   ]
  },
  {
   "cell_type": "code",
   "execution_count": 78,
   "metadata": {},
   "outputs": [],
   "source": [
    "# Constructing a parameter grid for a pipeline for a Gaussian kernel\n",
    "\n",
    "Cs     = np.logspace(-4,0,5)\n",
    "Gammas = np.logspace(-4,1,50)\n",
    "\n",
    "param_grid = dict(svc__estimator__gamma = Gammas, svc__estimator__C = Cs)"
   ]
  },
  {
   "cell_type": "code",
   "execution_count": 79,
   "metadata": {},
   "outputs": [],
   "source": [
    "# Provide a cross-validation scheme\n",
    "# The folds are made by preserving the percentage of samples for each class.\n",
    "from sklearn.model_selection import StratifiedShuffleSplit,StratifiedKFold\n",
    "\n",
    "cv = StratifiedShuffleSplit(n_splits = 10, test_size = 0.2, random_state = 7)\n",
    "#cv = StratifiedKFold(n_splits = 10)"
   ]
  },
  {
   "cell_type": "code",
   "execution_count": 80,
   "metadata": {},
   "outputs": [
    {
     "name": "stdout",
     "output_type": "stream",
     "text": [
      "Computing...\n",
      "Elapsed time:  222.4152376651764  s\n"
     ]
    }
   ],
   "source": [
    "# Perform a grid search and look up best params using a Gaussian kernel\n",
    "\n",
    "from sklearn.model_selection import RandomizedSearchCV, GridSearchCV\n",
    "import time\n",
    "\n",
    "start = time.time()\n",
    "print(\"Computing...\")\n",
    "\n",
    "grid_cv = RandomizedSearchCV(svm_est, param_distributions = param_grid, cv = cv,n_iter = 25)\n",
    "#grid_cv = GridSearchCV(svm_est, param_grid = param_grid, cv = cv)\n",
    "grid_cv.fit(XTrain, y)\n",
    "\n",
    "end = time.time()\n",
    "print(\"Elapsed time: \" , end - start, \" s\")"
   ]
  },
  {
   "cell_type": "code",
   "execution_count": 81,
   "metadata": {},
   "outputs": [],
   "source": [
    "# Best parameters obtained using a Gaussian kernel\n",
    "\n",
    "List = grid_cv.best_params_\n",
    "\n",
    "c_opt = List.get('svc__estimator__C')\n",
    "g_opt = List.get('svc__estimator__gamma')"
   ]
  },
  {
   "cell_type": "code",
   "execution_count": 82,
   "metadata": {},
   "outputs": [
    {
     "name": "stdout",
     "output_type": "stream",
     "text": [
      "Best score: 0.79575 obtained at c = 0.1 and g = 0.028117686979742307\n",
      "Pipeline(memory=None,\n",
      "     steps=[('scaler', StandardScaler(copy=True, with_mean=True, with_std=True)), ('svc', OneVsOneClassifier(estimator=SVC(C=0.1, cache_size=200, class_weight=None, coef0=0.0,\n",
      "  decision_function_shape='ovr', degree=3, gamma=0.028117686979742307,\n",
      "  kernel='rbf', max_iter=-1, probability=False, random_state=None,\n",
      "  shrinking=True, tol=0.001, verbose=False),\n",
      "          n_jobs=1))])\n"
     ]
    }
   ],
   "source": [
    "# GIVE ME THE BEST SCORE!\n",
    "\n",
    "print(\"Best score:\", grid_cv.best_score_, \"obtained at\", \"c =\", c_opt, \"and\",  \"g =\", g_opt)\n",
    "print(grid_cv.best_estimator_)"
   ]
  },
  {
   "cell_type": "code",
   "execution_count": 83,
   "metadata": {},
   "outputs": [
    {
     "name": "stdout",
     "output_type": "stream",
     "text": [
      "0.1 0.028117686979742307\n"
     ]
    }
   ],
   "source": [
    "print(c_opt, g_opt)"
   ]
  },
  {
   "cell_type": "code",
   "execution_count": 84,
   "metadata": {},
   "outputs": [],
   "source": [
    "# Import the training data\n",
    "\n",
    "# Constants\n",
    "N_TestData = 3000;   # Training data set contains 3000 elements\n",
    "\n",
    "# Train data\n",
    "IDt  = np.zeros(N_TestData)\n",
    "yt   = np.zeros(N_TestData)\n",
    "x1t  = np.zeros(N_TestData)\n",
    "x2t  = np.zeros(N_TestData)\n",
    "x3t  = np.zeros(N_TestData)\n",
    "x4t  = np.zeros(N_TestData)\n",
    "x5t  = np.zeros(N_TestData)\n",
    "x6t  = np.zeros(N_TestData)\n",
    "x7t  = np.zeros(N_TestData)\n",
    "x8t  = np.zeros(N_TestData)\n",
    "x9t  = np.zeros(N_TestData)\n",
    "x10t = np.zeros(N_TestData)\n",
    "x11t = np.zeros(N_TestData)\n",
    "x12t = np.zeros(N_TestData)\n",
    "x13t = np.zeros(N_TestData)\n",
    "x14t = np.zeros(N_TestData)\n",
    "x15t = np.zeros(N_TestData)\n",
    "x16t = np.zeros(N_TestData)\n",
    "\n",
    "# Reading the training data\n",
    "with open('test.csv') as csvfile:\n",
    "    reader = csv.DictReader(csvfile, delimiter = ',')\n",
    "    for row in reader:\n",
    "        IDt[int(row['Id'])-2000] = row['Id']\n",
    "        x1t[int(row['Id'])-2000] = np.float64(row['x1'])\n",
    "        x2t[int(row['Id'])-2000] = np.float64(row['x2'])\n",
    "        x3t[int(row['Id'])-2000] = np.float64(row['x3'])\n",
    "        x4t[int(row['Id'])-2000] = np.float64(row['x4'])\n",
    "        x5t[int(row['Id'])-2000] = np.float64(row['x5'])\n",
    "        x6t[int(row['Id'])-2000] = np.float64(row['x6'])\n",
    "        x7t[int(row['Id'])-2000] = np.float64(row['x7'])\n",
    "        x8t[int(row['Id'])-2000] = np.float64(row['x8'])\n",
    "        x9t[int(row['Id'])-2000] = np.float64(row['x9'])\n",
    "        x10t[int(row['Id'])-2000] = np.float64(row['x10'])\n",
    "        x11t[int(row['Id'])-2000] = np.float64(row['x11'])\n",
    "        x12t[int(row['Id'])-2000] = np.float64(row['x12'])\n",
    "        x13t[int(row['Id'])-2000] = np.float64(row['x13'])\n",
    "        x14t[int(row['Id'])-2000] = np.float64(row['x14'])\n",
    "        x15t[int(row['Id'])-2000] = np.float64(row['x15'])\n",
    "        x16t[int(row['Id'])-2000] = np.float64(row['x16'])\n",
    "        \n",
    "XTest = (np.vstack((x1t,x2t,x3t,x4t,x5t,x6t,x7t,x8t,x9t,x10t,x11t,x12t,x13t,x14t,x15t,x16t))).T"
   ]
  },
  {
   "cell_type": "code",
   "execution_count": 85,
   "metadata": {},
   "outputs": [],
   "source": [
    "# Predict the class of test data\n",
    "\n",
    "y_pred   = grid_cv.predict(XTest)"
   ]
  },
  {
   "cell_type": "code",
   "execution_count": 86,
   "metadata": {},
   "outputs": [],
   "source": [
    "# ----- WRITE DATA INTO CSV FILE\n",
    "with open('output_jens.csv', 'w',newline='') as outfile:\n",
    "    writer = csv.writer(outfile, delimiter = ',')\n",
    "    outfile.write('Id,y\\n')\n",
    "    for row in zip(IDt.astype(int), y_pred.astype(int)):\n",
    "        writer.writerow(row)"
   ]
  }
 ],
 "metadata": {
  "kernelspec": {
   "display_name": "Python 3",
   "language": "python",
   "name": "python3"
  },
  "language_info": {
   "codemirror_mode": {
    "name": "ipython",
    "version": 3
   },
   "file_extension": ".py",
   "mimetype": "text/x-python",
   "name": "python",
   "nbconvert_exporter": "python",
   "pygments_lexer": "ipython3",
   "version": "3.6.4"
  }
 },
 "nbformat": 4,
 "nbformat_minor": 2
}
