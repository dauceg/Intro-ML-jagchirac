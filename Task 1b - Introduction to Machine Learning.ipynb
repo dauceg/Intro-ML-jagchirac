{
 "cells": [
  {
   "cell_type": "code",
   "execution_count": 88,
   "metadata": {},
   "outputs": [],
   "source": [
    "# ----- READING IN THE PROVIDED DATA\n",
    "\n",
    "import csv\n",
    "import numpy as np\n",
    "import matplotlib.pyplot as plt\n",
    "import numpy as np\n",
    "import random\n",
    "from   sklearn import linear_model\n",
    "from   sklearn.metrics import mean_squared_error, r2_score\n",
    "from   sklearn.model_selection import KFold\n",
    "\n",
    "N_TData = 900;   # data set contains 900 elements\n",
    "\n",
    "# Train data\n",
    "ID  = np.zeros(N_TData)\n",
    "y   = np.zeros(N_TData)\n",
    "x1  = np.zeros(N_TData)\n",
    "x2  = np.zeros(N_TData)\n",
    "x3  = np.zeros(N_TData)\n",
    "x4  = np.zeros(N_TData)\n",
    "x5  = np.zeros(N_TData)\n",
    "\n",
    "# Reading the training data\n",
    "with open('train.csv') as csvfile:\n",
    "    reader = csv.DictReader(csvfile, delimiter = ',')\n",
    "    for row in reader:\n",
    "        ID[int(row['Id'])] = row['Id']\n",
    "        y[int(row['Id'])]  = row['y']\n",
    "        x1[int(row['Id'])] = row['x1']\n",
    "        x2[int(row['Id'])] = row['x2']\n",
    "        x3[int(row['Id'])] = row['x3']\n",
    "        x4[int(row['Id'])] = row['x4']\n",
    "        x5[int(row['Id'])] = row['x5']\n",
    "\n",
    "# Transform the data accordingly\n",
    "\n",
    "# Linear\n",
    "phy_1  = x1\n",
    "phy_2  = x2\n",
    "phy_3  = x3\n",
    "phy_4  = x4\n",
    "phy_5  = x5\n",
    "\n",
    "# Quadratic\n",
    "phy_6  = np.square(x1)\n",
    "phy_7  = np.square(x2)\n",
    "phy_8  = np.square(x3)\n",
    "phy_9  = np.square(x4)\n",
    "phy_10 = np.square(x5)\n",
    "\n",
    "# Exponential\n",
    "phy_11 = np.exp(x1)\n",
    "phy_12 = np.exp(x2)\n",
    "phy_13 = np.exp(x3)\n",
    "phy_14 = np.exp(x4)\n",
    "phy_15 = np.exp(x5)\n",
    "\n",
    "# Cosine\n",
    "phy_16 = np.cos(x1)\n",
    "phy_17 = np.cos(x2)\n",
    "phy_18 = np.cos(x3)\n",
    "phy_19 = np.cos(x4)\n",
    "phy_20 = np.cos(x5)\n",
    "\n",
    "# Constant\n",
    "phy_21 = np.ones(phy_20.shape)\n",
    "\n",
    "X_data = (np.vstack((phy_1, phy_2, phy_3, phy_4, phy_5, phy_6, phy_7, phy_8, phy_9, phy_10, phy_11, phy_12, phy_13, phy_14, phy_15, phy_16, phy_17, phy_18, phy_19, phy_20, phy_21))).T\n",
    "\n",
    "import pandas as pd \n",
    "df = pd.DataFrame(X_data)\n",
    "df.to_csv(\"xdata.csv\", header=None, index=None)"
   ]
  },
  {
   "cell_type": "code",
   "execution_count": 90,
   "metadata": {},
   "outputs": [],
   "source": [
    "# ----- DO THE BASIC THING GREGOIRE SUGGESTED\n",
    "w_basic = np.dot(np.linalg.pinv(np.dot(X_data.T, X_data)), np.dot(X_data.T, y))\n",
    "\n",
    "import pandas as pd \n",
    "df = pd.DataFrame(w_basic)\n",
    "df.to_csv(\"wbasic.csv\", header=None, index=None)"
   ]
  },
  {
   "cell_type": "code",
   "execution_count": 91,
   "metadata": {},
   "outputs": [
    {
     "data": {
      "text/plain": [
       "(900, 21)"
      ]
     },
     "execution_count": 91,
     "metadata": {},
     "output_type": "execute_result"
    }
   ],
   "source": []
  },
  {
   "cell_type": "code",
   "execution_count": 67,
   "metadata": {},
   "outputs": [
    {
     "data": {
      "text/plain": [
       "['Test/Validation Datapoints', 600, 300]"
      ]
     },
     "execution_count": 67,
     "metadata": {},
     "output_type": "execute_result"
    }
   ],
   "source": [
    "# ----- SPLIT UP THE DATA INTO TRAINING AND VALIDATION DATA (SIMPLE WAY)\n",
    "\n",
    "# choose random indices from 0 to 899\n",
    "T_index = random.sample(range(0,N_TData-1), 600)\n",
    "V_index  = list(map(int,[x for x in np.linspace(0,899,900) if x not in T_index]));\n",
    "\n",
    "# extract the corresponding data\n",
    "X_train = X_data[T_index,:]\n",
    "X_vali  = X_data[V_index,:]\n",
    "\n",
    "y_train = y[T_index]\n",
    "y_vali  = y[V_index]\n",
    "\n",
    "[\"Test/Validation Datapoints\", len(T_index), len(V_index)]"
   ]
  },
  {
   "cell_type": "code",
   "execution_count": 82,
   "metadata": {},
   "outputs": [
    {
     "name": "stdout",
     "output_type": "stream",
     "text": [
      "9.910307617250284\n",
      "10.245174457714098\n",
      "11.269241304193839\n",
      "10.436759767051791\n",
      "10.628864011301514\n",
      "9.606820540913057\n",
      "9.956755336302496\n",
      "10.304435578816861\n",
      "10.45776990678672\n",
      "12.744902804574739\n"
     ]
    }
   ],
   "source": [
    "# 10-Fold creation\n",
    "\n",
    "kf=KFold(n_splits=10,shuffle=True)\n",
    "w_tot = np.zeros(21)\n",
    "\n",
    "for train_index, test_index in kf.split(X_data):\n",
    "    X_train, X_test = X_data[train_index], X_data[test_index]\n",
    "    y_train, y_test = y[train_index], y[test_index]\n",
    "    w_hat_closed_form = np.dot(np.linalg.pinv(np.dot(X_train.T, X_train)), np.dot(X_train.T, y_train))\n",
    "    w_tot = w_tot + w_hat_closed_form\n",
    "    Y_pred_cf = np.dot(X_test,w_hat_closed_form)\n",
    "    RMSE= mean_squared_error(y_test, Y_pred_cf)**0.5\n",
    "    print(RMSE)\n",
    "    \n",
    "w_res = 1/10*w_tot\n",
    "\n",
    "w_res\n",
    "\n",
    "# save data\n",
    "\n",
    "import pandas as pd \n",
    "df = pd.DataFrame(w_res)\n",
    "df.to_csv(\"w10f.csv\", header=None, index=None)"
   ]
  },
  {
   "cell_type": "code",
   "execution_count": 69,
   "metadata": {},
   "outputs": [
    {
     "data": {
      "text/plain": [
       "LinearRegression(copy_X=True, fit_intercept=True, n_jobs=1, normalize=False)"
      ]
     },
     "execution_count": 69,
     "metadata": {},
     "output_type": "execute_result"
    }
   ],
   "source": [
    "# ----- TRAINING (OLD)\n",
    "\n",
    "# Create linear regression object\n",
    "regr = linear_model.LinearRegression()\n",
    "# Train the model using the training set\n",
    "regr.fit(X_train,y_train)"
   ]
  },
  {
   "cell_type": "code",
   "execution_count": 52,
   "metadata": {},
   "outputs": [
    {
     "name": "stdout",
     "output_type": "stream",
     "text": [
      "11.381153182857222\n"
     ]
    }
   ],
   "source": [
    "# ----- VALIDATION (OLD)\n",
    "\n",
    "Y_pred = regr.predict(X_vali)\n",
    "\n",
    "RMSE     = mean_squared_error(y_vali, Y_pred)**0.5\n",
    "print(RMSE)"
   ]
  },
  {
   "cell_type": "code",
   "execution_count": 53,
   "metadata": {},
   "outputs": [],
   "source": [
    "# ----- EXPORT WEIGHTS\n",
    "\n",
    "Weights = regr.coef_[:]\n",
    "\n",
    "import pandas as pd \n",
    "df = pd.DataFrame(Weights)\n",
    "df.to_csv(\"weights.csv\", header=None, index=None)"
   ]
  },
  {
   "cell_type": "code",
   "execution_count": 54,
   "metadata": {},
   "outputs": [
    {
     "data": {
      "text/plain": [
       "array([-3.98908243e+00,  3.85070345e+00, -2.05144941e+00,  6.23106878e+00,\n",
       "       -3.22272171e+00, -7.66742691e+00,  2.01682732e+00,  3.04142567e-01,\n",
       "       -1.43369649e+00,  1.30446688e+00,  2.25007339e+00, -4.00958454e+00,\n",
       "       -6.10755118e-03,  6.50836508e-01, -1.98753957e-01, -1.53763236e+01,\n",
       "        3.09603978e+00,  1.31421614e+00, -5.62687517e+00,  3.52626443e+00,\n",
       "        0.00000000e+00])"
      ]
     },
     "execution_count": 54,
     "metadata": {},
     "output_type": "execute_result"
    }
   ],
   "source": [
    "Weights"
   ]
  }
 ],
 "metadata": {
  "kernelspec": {
   "display_name": "Python 3",
   "language": "python",
   "name": "python3"
  },
  "language_info": {
   "codemirror_mode": {
    "name": "ipython",
    "version": 3
   },
   "file_extension": ".py",
   "mimetype": "text/x-python",
   "name": "python",
   "nbconvert_exporter": "python",
   "pygments_lexer": "ipython3",
   "version": "3.6.4"
  }
 },
 "nbformat": 4,
 "nbformat_minor": 2
}
