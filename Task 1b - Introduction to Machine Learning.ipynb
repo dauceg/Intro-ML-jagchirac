{
 "cells": [
  {
   "cell_type": "code",
   "execution_count": 48,
   "metadata": {},
   "outputs": [],
   "source": [
    "# ----- READING IN THE PROVIDED DATA\n",
    "\n",
    "import csv\n",
    "import numpy as np\n",
    "import matplotlib.pyplot as plt\n",
    "import numpy as np\n",
    "import random\n",
    "from   sklearn import linear_model\n",
    "from   sklearn.metrics import mean_squared_error, r2_score\n",
    "\n",
    "N_TData = 900;   # data set contains 900 elements\n",
    "\n",
    "# Train data\n",
    "ID  = np.zeros(N_TData)\n",
    "y   = np.zeros(N_TData)\n",
    "x1  = np.zeros(N_TData)\n",
    "x2  = np.zeros(N_TData)\n",
    "x3  = np.zeros(N_TData)\n",
    "x4  = np.zeros(N_TData)\n",
    "x5  = np.zeros(N_TData)\n",
    "\n",
    "# Reading the training data\n",
    "with open('train.csv') as csvfile:\n",
    "    reader = csv.DictReader(csvfile, delimiter = ',')\n",
    "    for row in reader:\n",
    "        ID[int(row['Id'])] = row['Id']\n",
    "        y[int(row['Id'])]  = row['y']\n",
    "        x1[int(row['Id'])] = row['x1']\n",
    "        x2[int(row['Id'])] = row['x2']\n",
    "        x3[int(row['Id'])] = row['x3']\n",
    "        x4[int(row['Id'])] = row['x4']\n",
    "        x5[int(row['Id'])] = row['x5']\n",
    "\n",
    "# Transform the data accordingly\n",
    "\n",
    "# Linear\n",
    "phy_1  = x1\n",
    "phy_2  = x2\n",
    "phy_3  = x3\n",
    "phy_4  = x4\n",
    "phy_5  = x5\n",
    "\n",
    "# Quadratic\n",
    "phy_6  = np.square(x1)\n",
    "phy_7  = np.square(x2)\n",
    "phy_8  = np.square(x3)\n",
    "phy_9  = np.square(x4)\n",
    "phy_10 = np.square(x5)\n",
    "\n",
    "# Exponential\n",
    "phy_11 = np.exp(x1)\n",
    "phy_12 = np.exp(x2)\n",
    "phy_13 = np.exp(x3)\n",
    "phy_14 = np.exp(x4)\n",
    "phy_15 = np.exp(x5)\n",
    "\n",
    "# Cosine\n",
    "phy_16 = np.cos(x1)\n",
    "phy_17 = np.cos(x2)\n",
    "phy_18 = np.cos(x3)\n",
    "phy_19 = np.cos(x4)\n",
    "phy_20 = np.cos(x5)\n",
    "\n",
    "# Constant\n",
    "phy_21 = np.ones(phy_20.shape)\n",
    "\n",
    "X_data = (np.vstack((phy_1, phy_2, phy_3, phy_4, phy_5, phy_6, phy_7, phy_8, phy_9, phy_10, phy_11, phy_12, phy_13, phy_14, phy_15, phy_16, phy_17, phy_18, phy_19, phy_20, phy_21))).T"
   ]
  },
  {
   "cell_type": "code",
   "execution_count": 157,
   "metadata": {},
   "outputs": [
    {
     "data": {
      "text/plain": [
       "[700, 200]"
      ]
     },
     "execution_count": 157,
     "metadata": {},
     "output_type": "execute_result"
    }
   ],
   "source": [
    "# ----- RANDOMLY SPLIT UP THE DATA INTO TRAINING AND VALIDATION DATA\n",
    "\n",
    "# choose random indices from 0 to 899\n",
    "T_index = random.sample(range(0,N_TData-1), 700)\n",
    "V_index  = list(map(int,[x for x in np.linspace(0,899,900) if x not in T_index]));\n",
    "\n",
    "# extract the corresponding data\n",
    "X_train = X_data[T_index,:]\n",
    "X_vali  = X_data[V_index,:]\n",
    "\n",
    "y_train = y[T_index]\n",
    "y_vali  = y[V_index]\n",
    "\n",
    "[len(T_index), len(V_index)]"
   ]
  },
  {
   "cell_type": "code",
   "execution_count": 158,
   "metadata": {},
   "outputs": [
    {
     "data": {
      "text/plain": [
       "LinearRegression(copy_X=True, fit_intercept=True, n_jobs=1, normalize=False)"
      ]
     },
     "execution_count": 158,
     "metadata": {},
     "output_type": "execute_result"
    }
   ],
   "source": [
    "# ----- TRAINING\n",
    "\n",
    "# Create linear regression object\n",
    "regr = linear_model.LinearRegression()\n",
    "# Train the model using the training set\n",
    "regr.fit(X_train,y_train)"
   ]
  },
  {
   "cell_type": "code",
   "execution_count": 159,
   "metadata": {},
   "outputs": [
    {
     "name": "stdout",
     "output_type": "stream",
     "text": [
      "10.59776973617782\n"
     ]
    }
   ],
   "source": [
    "# ----- VALIDATION\n",
    "\n",
    "Y_pred = regr.predict(X_vali)\n",
    "\n",
    "RMSE     = mean_squared_error(y_vali, Y_pred)**0.5\n",
    "print(RMSE)"
   ]
  }
 ],
 "metadata": {
  "kernelspec": {
   "display_name": "Python 3",
   "language": "python",
   "name": "python3"
  },
  "language_info": {
   "codemirror_mode": {
    "name": "ipython",
    "version": 3
   },
   "file_extension": ".py",
   "mimetype": "text/x-python",
   "name": "python",
   "nbconvert_exporter": "python",
   "pygments_lexer": "ipython3",
   "version": "3.6.4"
  }
 },
 "nbformat": 4,
 "nbformat_minor": 2
}
