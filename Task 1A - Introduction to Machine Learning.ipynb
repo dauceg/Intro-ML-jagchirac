{
 "cells": [
  {
   "cell_type": "code",
   "execution_count": 2,
   "metadata": {},
   "outputs": [
    {
     "data": {
      "text/plain": [
       "LinearRegression(copy_X=True, fit_intercept=True, n_jobs=1, normalize=False)"
      ]
     },
     "execution_count": 2,
     "metadata": {},
     "output_type": "execute_result"
    }
   ],
   "source": [
    "# ----- TRAINING\n",
    "\n",
    "import csv\n",
    "import numpy as np\n",
    "import matplotlib.pyplot as plt\n",
    "import numpy as np\n",
    "from   sklearn import linear_model\n",
    "from   sklearn.metrics import mean_squared_error, r2_score\n",
    "\n",
    "# Constants\n",
    "N_TData = 10000;   # Training data set contains 2000 elements\n",
    "\n",
    "# Train data\n",
    "ID  = np.zeros(N_TData)\n",
    "y   = np.zeros(N_TData)\n",
    "x1  = np.zeros(N_TData)\n",
    "x2  = np.zeros(N_TData)\n",
    "x3  = np.zeros(N_TData)\n",
    "x4  = np.zeros(N_TData)\n",
    "x5  = np.zeros(N_TData)\n",
    "x6  = np.zeros(N_TData)\n",
    "x7  = np.zeros(N_TData)\n",
    "x8  = np.zeros(N_TData)\n",
    "x9  = np.zeros(N_TData)\n",
    "x10 = np.zeros(N_TData)\n",
    "\n",
    "# Reading the training data\n",
    "with open('train.csv') as csvfile:\n",
    "    reader = csv.DictReader(csvfile, delimiter = ',')\n",
    "    for row in reader:\n",
    "        ID[int(row['Id'])] = row['Id']\n",
    "        y[int(row['Id'])]  = row['y']\n",
    "        x1[int(row['Id'])] = row['x1']\n",
    "        x2[int(row['Id'])] = row['x2']\n",
    "        x3[int(row['Id'])] = row['x3']\n",
    "        x4[int(row['Id'])] = row['x4']\n",
    "        x5[int(row['Id'])] = row['x5']\n",
    "        x6[int(row['Id'])] = row['x6']\n",
    "        x7[int(row['Id'])] = row['x7']\n",
    "        x8[int(row['Id'])] = row['x8']\n",
    "        x9[int(row['Id'])] = row['x9']\n",
    "        x10[int(row['Id'])]= row['x10']\n",
    "        \n",
    "XTrain = (np.vstack((x1,x2,x3,x4,x5,x6,x7,x8,x9,x10))).T\n",
    "\n"
   ]
  },
  {
   "cell_type": "code",
   "execution_count": null,
   "metadata": {},
   "outputs": [],
   "source": []
  }
 ],
 "metadata": {
  "kernelspec": {
   "display_name": "Python 2",
   "language": "python",
   "name": "python2"
  },
  "language_info": {
   "codemirror_mode": {
    "name": "ipython",
    "version": 2
   },
   "file_extension": ".py",
   "mimetype": "text/x-python",
   "name": "python",
   "nbconvert_exporter": "python",
   "pygments_lexer": "ipython2",
   "version": "2.7.13"
  }
 },
 "nbformat": 4,
 "nbformat_minor": 2
}
