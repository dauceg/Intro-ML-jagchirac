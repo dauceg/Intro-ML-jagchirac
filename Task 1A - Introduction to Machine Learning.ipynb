{
 "cells": [
  {
   "cell_type": "code",
   "execution_count": 35,
   "metadata": {},
   "outputs": [],
   "source": [
    "# ----- TRAINING\n",
    "\n",
    "import csv\n",
    "import numpy as np\n",
    "import matplotlib.pyplot as plt\n",
    "import numpy as np\n",
    "from   sklearn.model_selection import KFold\n",
    "from   sklearn.linear_model import Ridge \n",
    "from   sklearn.metrics import mean_squared_error, r2_score\n",
    "\n",
    "# Constants\n",
    "N_TData = 10000;   # Training data set contains 2000 elements\n",
    "\n",
    "# Train data\n",
    "ID  = np.zeros(N_TData)\n",
    "y   = np.zeros(N_TData)\n",
    "x1  = np.zeros(N_TData)\n",
    "x2  = np.zeros(N_TData)\n",
    "x3  = np.zeros(N_TData)\n",
    "x4  = np.zeros(N_TData)\n",
    "x5  = np.zeros(N_TData)\n",
    "x6  = np.zeros(N_TData)\n",
    "x7  = np.zeros(N_TData)\n",
    "x8  = np.zeros(N_TData)\n",
    "x9  = np.zeros(N_TData)\n",
    "x10 = np.zeros(N_TData)\n",
    "\n",
    "# Reading the training data\n",
    "with open('train1A.csv') as csvfile:\n",
    "    reader = csv.DictReader(csvfile, delimiter = ',')\n",
    "    for row in reader:\n",
    "        ID[int(row['Id'])] = row['Id']\n",
    "        y[int(row['Id'])]  = np.float64(row['y'])\n",
    "        x1[int(row['Id'])] = np.float64(row['x1'])\n",
    "        x2[int(row['Id'])] = np.float64(row['x2'])\n",
    "        x3[int(row['Id'])] = np.float64(row['x3'])\n",
    "        x4[int(row['Id'])] = np.float64(row['x4'])\n",
    "        x5[int(row['Id'])] = np.float64(row['x5'])\n",
    "        x6[int(row['Id'])] = np.float64(row['x6'])\n",
    "        x7[int(row['Id'])] = np.float64(row['x7'])\n",
    "        x8[int(row['Id'])] = np.float64(row['x8'])\n",
    "        x9[int(row['Id'])] = np.float64(row['x9'])\n",
    "        x10[int(row['Id'])]= np.float64(row['x10'])\n",
    "        \n",
    "X = (np.vstack((x1,x2,x3,x4,x5,x6,x7,x8,x9,x10))).T\n",
    "\n"
   ]
  },
  {
   "cell_type": "code",
   "execution_count": 36,
   "metadata": {},
   "outputs": [
    {
     "data": {
      "text/plain": [
       "array([ 0.22753922,  0.22739721,  0.22971403,  0.60479654,  4.84902323])"
      ]
     },
     "execution_count": 36,
     "metadata": {},
     "output_type": "execute_result"
    }
   ],
   "source": [
    "# 10-Fold creation (randomly because of 'shuffle')\n",
    "\n",
    "Lambda = np.array([0.1, 1, 10, 100, 1000])\n",
    "Res = np.zeros(5)\n",
    "kf=KFold(n_splits=10,shuffle=True)\n",
    "\n",
    "for j,i in enumerate(Lambda):\n",
    "    clf = Ridge(alpha=i)\n",
    "    RMSE = 0\n",
    "    for train_index, test_index in kf.split(X):\n",
    "        X_train, X_test = X[train_index], X[test_index]\n",
    "        y_train, y_test = y[train_index], y[test_index]\n",
    "        clf.fit(X_train, y_train)\n",
    "        y_pred = clf.predict(X_test)\n",
    "        RMSE += mean_squared_error(y_test, y_pred)**0.5\n",
    "    RMSE = RMSE/10\n",
    "    Res[j]=RMSE\n",
    "Res"
   ]
  },
  {
   "cell_type": "code",
   "execution_count": 30,
   "metadata": {},
   "outputs": [
    {
     "name": "stdout",
     "output_type": "stream",
     "text": [
      "(0, 0.10000000000000001)\n",
      "(1, 1.0)\n",
      "(2, 10.0)\n",
      "(3, 100.0)\n",
      "(4, 1000.0)\n"
     ]
    }
   ],
   "source": [
    "for i,j in enumerate(Lambda):\n",
    "    print(i,j)\n"
   ]
  },
  {
   "cell_type": "code",
   "execution_count": 37,
   "metadata": {},
   "outputs": [],
   "source": [
    "# ----- WRITE DATA INTO CSV FILE\n",
    "with open('output1A.csv', 'wb') as outfile:\n",
    "    writer = csv.writer(outfile, delimiter = ',')\n",
    "    for row in zip(Res):\n",
    "        writer.writerow(row)"
   ]
  },
  {
   "cell_type": "code",
   "execution_count": null,
   "metadata": {},
   "outputs": [],
   "source": []
  }
 ],
 "metadata": {
  "kernelspec": {
   "display_name": "Python 2",
   "language": "python",
   "name": "python2"
  },
  "language_info": {
   "codemirror_mode": {
    "name": "ipython",
    "version": 2
   },
   "file_extension": ".py",
   "mimetype": "text/x-python",
   "name": "python",
   "nbconvert_exporter": "python",
   "pygments_lexer": "ipython2",
   "version": "2.7.13"
  }
 },
 "nbformat": 4,
 "nbformat_minor": 2
}
