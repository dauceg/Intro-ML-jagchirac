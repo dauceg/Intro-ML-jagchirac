{
 "cells": [
  {
   "cell_type": "code",
   "execution_count": 1,
   "metadata": {},
   "outputs": [],
   "source": [
    "# ----- TRAINING\n",
    "\n",
    "import csv\n",
    "import numpy as np\n",
    "import matplotlib.pyplot as plt\n",
    "import numpy as np\n",
    "from   sklearn.model_selection import KFold\n",
    "from   sklearn.linear_model import Ridge \n",
    "from   sklearn.metrics import mean_squared_error, r2_score\n",
    "\n",
    "# Constants\n",
    "N_TData = 500;   # Training data set contains 2000 elements\n",
    "\n",
    "# Train data\n",
    "ID  = np.zeros(N_TData)\n",
    "y   = np.zeros(N_TData)\n",
    "x1  = np.zeros(N_TData)\n",
    "x2  = np.zeros(N_TData)\n",
    "x3  = np.zeros(N_TData)\n",
    "x4  = np.zeros(N_TData)\n",
    "x5  = np.zeros(N_TData)\n",
    "x6  = np.zeros(N_TData)\n",
    "x7  = np.zeros(N_TData)\n",
    "x8  = np.zeros(N_TData)\n",
    "x9  = np.zeros(N_TData)\n",
    "x10 = np.zeros(N_TData)\n",
    "\n",
    "# Reading the training data\n",
    "with open('train1A.csv') as csvfile:\n",
    "    reader = csv.DictReader(csvfile, delimiter = ',')\n",
    "    for row in reader:\n",
    "        ID[int(row['Id'])] = row['Id']\n",
    "        y[int(row['Id'])]  = np.float64(row['y'])\n",
    "        x1[int(row['Id'])] = np.float64(row['x1'])\n",
    "        x2[int(row['Id'])] = np.float64(row['x2'])\n",
    "        x3[int(row['Id'])] = np.float64(row['x3'])\n",
    "        x4[int(row['Id'])] = np.float64(row['x4'])\n",
    "        x5[int(row['Id'])] = np.float64(row['x5'])\n",
    "        x6[int(row['Id'])] = np.float64(row['x6'])\n",
    "        x7[int(row['Id'])] = np.float64(row['x7'])\n",
    "        x8[int(row['Id'])] = np.float64(row['x8'])\n",
    "        x9[int(row['Id'])] = np.float64(row['x9'])\n",
    "        x10[int(row['Id'])]= np.float64(row['x10'])\n",
    "        \n",
    "X = (np.vstack((x1,x2,x3,x4,x5,x6,x7,x8,x9,x10))).T\n",
    "\n"
   ]
  },
  {
   "cell_type": "code",
   "execution_count": 17,
   "metadata": {},
   "outputs": [
    {
     "data": {
      "text/plain": [
       "array([  1.0059384 ,   1.00260025,   1.01974941,   2.57628471,  21.89447516])"
      ]
     },
     "execution_count": 17,
     "metadata": {},
     "output_type": "execute_result"
    }
   ],
   "source": [
    "# 10-Fold creation (randomly because of 'shuffle')\n",
    "\n",
    "Lambda = np.array([0.1, 1, 10, 100, 1000])\n",
    "Res = np.zeros(5)\n",
    "kf=KFold(n_splits=10)\n",
    "\n",
    "for j,i in enumerate(Lambda):\n",
    "    clf = Ridge(alpha=i)\n",
    "    RMSE = 0\n",
    "    for train_index, test_index in kf.split(X):\n",
    "        X_train, X_test = X[train_index], X[test_index]\n",
    "        y_train, y_test = y[train_index], y[test_index]\n",
    "        clf.fit(X_train, y_train)\n",
    "        y_pred = clf.predict(X_test)\n",
    "        RMSE += mean_squared_error(y_test, y_pred)**0.5\n",
    "    RMSE = RMSE/np.float64(10)\n",
    "    Res[j]=RMSE\n",
    "Res"
   ]
  },
  {
   "cell_type": "code",
   "execution_count": 32,
   "metadata": {},
   "outputs": [
    {
     "data": {
      "text/plain": [
       "array([  1.00593802,   1.00259653,   1.01971912,   2.5746534 ,  21.82621884])"
      ]
     },
     "execution_count": 32,
     "metadata": {},
     "output_type": "execute_result"
    }
   ],
   "source": [
    "# CLOSED FORM SOLUTION\n",
    "\n",
    "Lambda = np.array([0.1, 1, 10, 100, 1000])\n",
    "Res = np.zeros(5)\n",
    "kf=KFold(n_splits=10)\n",
    "\n",
    "for j,i in enumerate(Lambda):\n",
    "    RMSE = 0\n",
    "    for train_index, test_index in kf.split(X):\n",
    "        X_train, X_test = X[train_index], X[test_index]\n",
    "        y_train, y_test = y[train_index], y[test_index]\n",
    "        w_hat_closed_form = np.dot(np.linalg.pinv(np.dot(X_train.T, X_train)+i*np.identity(10)), np.dot(X_train.T, y_train))\n",
    "        y_pred = np.dot(X_test,w_hat_closed_form)\n",
    "        RMSE += mean_squared_error(y_test, y_pred)**0.5\n",
    "    RMSE = RMSE/np.float64(10)\n",
    "    Res[j]=RMSE\n",
    "Res"
   ]
  },
  {
   "cell_type": "code",
   "execution_count": 33,
   "metadata": {},
   "outputs": [],
   "source": [
    "# ----- WRITE DATA INTO CSV FILE\n",
    "with open('output1A.csv', 'wb') as outfile:\n",
    "    writer = csv.writer(outfile, delimiter = ',')\n",
    "    for row in zip(Res):\n",
    "        writer.writerow(row)"
   ]
  },
  {
   "cell_type": "code",
   "execution_count": 28,
   "metadata": {},
   "outputs": [
    {
     "name": "stdout",
     "output_type": "stream",
     "text": [
      "10\n"
     ]
    }
   ],
   "source": [
    "print(np.size(np.dot(X_train.T, X_train),0))"
   ]
  },
  {
   "cell_type": "code",
   "execution_count": null,
   "metadata": {},
   "outputs": [],
   "source": []
  }
 ],
 "metadata": {
  "kernelspec": {
   "display_name": "Python 2",
   "language": "python",
   "name": "python2"
  },
  "language_info": {
   "codemirror_mode": {
    "name": "ipython",
    "version": 2
   },
   "file_extension": ".py",
   "mimetype": "text/x-python",
   "name": "python",
   "nbconvert_exporter": "python",
   "pygments_lexer": "ipython2",
   "version": "2.7.13"
  }
 },
 "nbformat": 4,
 "nbformat_minor": 2
}
