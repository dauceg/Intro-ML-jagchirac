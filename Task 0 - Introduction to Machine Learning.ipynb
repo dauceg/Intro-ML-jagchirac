{
 "cells": [
  {
   "cell_type": "code",
   "execution_count": 1,
   "metadata": {},
   "outputs": [
    {
     "data": {
      "text/plain": [
       "LinearRegression(copy_X=True, fit_intercept=True, n_jobs=1, normalize=False)"
      ]
     },
     "execution_count": 1,
     "metadata": {},
     "output_type": "execute_result"
    }
   ],
   "source": [
    "# ----- TRAINING\n",
    "\n",
    "import csv\n",
    "import numpy as np\n",
    "import matplotlib.pyplot as plt\n",
    "import numpy as np\n",
    "from   sklearn import linear_model\n",
    "from   sklearn.metrics import mean_squared_error, r2_score\n",
    "\n",
    "# Constants\n",
    "N_TData = 10000;   # Training data set contains 10000 elements\n",
    "\n",
    "# Train data\n",
    "ID  = np.zeros(N_TData)\n",
    "y   = np.zeros(N_TData)\n",
    "x1  = np.zeros(N_TData)\n",
    "x2  = np.zeros(N_TData)\n",
    "x3  = np.zeros(N_TData)\n",
    "x4  = np.zeros(N_TData)\n",
    "x5  = np.zeros(N_TData)\n",
    "x6  = np.zeros(N_TData)\n",
    "x7  = np.zeros(N_TData)\n",
    "x8  = np.zeros(N_TData)\n",
    "x9  = np.zeros(N_TData)\n",
    "x10 = np.zeros(N_TData)\n",
    "\n",
    "# Reading the training data\n",
    "with open('train.csv') as csvfile:\n",
    "    reader = csv.DictReader(csvfile, delimiter = ',')\n",
    "    for row in reader:\n",
    "        ID[int(row['Id'])] = row['Id']\n",
    "        y[int(row['Id'])]  = np.float64(row['y'])\n",
    "        x1[int(row['Id'])] = np.float64(row['x1'])\n",
    "        x2[int(row['Id'])] = np.float64(row['x2'])\n",
    "        x3[int(row['Id'])] = np.float64(row['x3'])\n",
    "        x4[int(row['Id'])] = np.float64(row['x4'])\n",
    "        x5[int(row['Id'])] = np.float64(row['x5'])\n",
    "        x6[int(row['Id'])] = np.float64(row['x6'])\n",
    "        x7[int(row['Id'])] = np.float64(row['x7'])\n",
    "        x8[int(row['Id'])] = np.float64(row['x8'])\n",
    "        x9[int(row['Id'])] = np.float64(row['x9'])\n",
    "        x10[int(row['Id'])]= np.float64(row['x10'])\n",
    "        \n",
    "XTrain = (np.vstack((x1,x2,x3,x4,x5,x6,x7,x8,x9,x10))).T\n",
    "\n",
    "# Create linear regression object\n",
    "regr = linear_model.LinearRegression()\n",
    "# Train the model using the training set\n",
    "regr.fit(XTrain,y)"
   ]
  },
  {
   "cell_type": "code",
   "execution_count": 2,
   "metadata": {},
   "outputs": [
    {
     "name": "stdout",
     "output_type": "stream",
     "text": [
      "{'copy_X': True, 'normalize': False, 'n_jobs': 1, 'fit_intercept': True}\n"
     ]
    }
   ],
   "source": [
    "X=regr.get_params()\n",
    "print(X)"
   ]
  },
  {
   "cell_type": "code",
   "execution_count": 3,
   "metadata": {},
   "outputs": [],
   "source": [
    "# ----- TESTING\n",
    "\n",
    "# Constants\n",
    "N_TestData = 2000;  # Testing data set contains 2000 elements\n",
    "\n",
    "# Test data\n",
    "IDt  = np.zeros(N_TestData)\n",
    "x1t  = np.zeros(N_TestData)\n",
    "x2t  = np.zeros(N_TestData)\n",
    "x3t  = np.zeros(N_TestData)\n",
    "x4t  = np.zeros(N_TestData)\n",
    "x5t  = np.zeros(N_TestData)\n",
    "x6t  = np.zeros(N_TestData)\n",
    "x7t  = np.zeros(N_TestData)\n",
    "x8t  = np.zeros(N_TestData)\n",
    "x9t  = np.zeros(N_TestData)\n",
    "x10t = np.zeros(N_TestData)\n",
    "\n",
    "# Read the test data\n",
    "with open('test.csv') as csvfile:\n",
    "    reader = csv.DictReader(csvfile, delimiter = ',')\n",
    "    for row in reader:\n",
    "        IDt[int(row['Id'])-N_TData] = row['Id']\n",
    "        x1t[int(row['Id'])-N_TData] = np.float64(row['x1'])\n",
    "        x2t[int(row['Id'])-N_TData] = np.float64(row['x2'])\n",
    "        x3t[int(row['Id'])-N_TData] = np.float64(row['x3'])\n",
    "        x4t[int(row['Id'])-N_TData] = np.float64(row['x4'])\n",
    "        x5t[int(row['Id'])-N_TData] = np.float64(row['x5'])\n",
    "        x6t[int(row['Id'])-N_TData] = np.float64(row['x6'])\n",
    "        x7t[int(row['Id'])-N_TData] = np.float64(row['x7']\n",
    "        x8t[int(row['Id'])-N_TData] = np.float64(row['x8']\n",
    "        x9t[int(row['Id'])-N_TData] = np.float64(row['x9']\n",
    "        x10t[int(row['Id'])-N_TData]= np.float64(row['x10']\n",
    "        \n",
    "XTest  = (np.vstack((x1t,x2t,x3t,x4t,x5t,x6t,x7t,x8t,x9t,x10t))).T\n",
    "Y_pred = regr.predict(XTest)"
   ]
  },
  {
   "cell_type": "code",
   "execution_count": 4,
   "metadata": {},
   "outputs": [
    {
     "name": "stdout",
     "output_type": "stream",
     "text": [
      "9.74705577953e-13\n"
     ]
    }
   ],
   "source": [
    "# ----- EVALUATION\n",
    "\n",
    "TrueVal  = XTest.mean(axis=1)\n",
    "\n",
    "RMSE     = mean_squared_error(TrueVal, Y_pred)**0.5\n",
    "print(RMSE)"
   ]
  },
  {
   "cell_type": "code",
   "execution_count": 5,
   "metadata": {},
   "outputs": [
    {
     "name": "stdout",
     "output_type": "stream",
     "text": [
      "w_hat = [ 0.1  0.1  0.1  0.1  0.1  0.1  0.1  0.1  0.1  0.1]\n",
      "5.05788963316e-13\n"
     ]
    }
   ],
   "source": [
    "# ----- CLOSED FORM SOLUTION TEST\n",
    "w_hat_closed_form = np.dot(np.linalg.pinv(np.dot(XTrain.T, XTrain)), np.dot(XTrain.T, y))\n",
    "print(\"w_hat = {}\".format(w_hat_closed_form))\n",
    "\n",
    "# Evaluating the predicted output\n",
    "Y_pred_cf = np.dot(XTest,w_hat_closed_form)\n",
    "\n",
    "# Error\n",
    "RMSE= mean_squared_error(TrueVal, Y_pred_cf)**0.5\n",
    "print(RMSE)"
   ]
  },
  {
   "cell_type": "code",
   "execution_count": 35,
   "metadata": {},
   "outputs": [],
   "source": [
    "# ----- WRITE DATA INTO CSV FILE\n",
    "with open('output.csv', 'wb') as outfile:\n",
    "    writer = csv.writer(outfile, delimiter = ',')\n",
    "    outfile.write('Id,y\\n')\n",
    "    for row in zip(IDt.astype(int), Y_pred_cf):\n",
    "        writer.writerow(row)"
   ]
  }
 ],
 "metadata": {
  "kernelspec": {
   "display_name": "Python 2",
   "language": "python",
   "name": "python2"
  },
  "language_info": {
   "codemirror_mode": {
    "name": "ipython",
    "version": 2
   },
   "file_extension": ".py",
   "mimetype": "text/x-python",
   "name": "python",
   "nbconvert_exporter": "python",
   "pygments_lexer": "ipython2",
   "version": "2.7.13"
  }
 },
 "nbformat": 4,
 "nbformat_minor": 2
}
