{
 "cells": [
  {
   "cell_type": "code",
   "execution_count": 39,
   "metadata": {},
   "outputs": [],
   "source": [
    "# ----- IMPORTING THE DATA AND LIBRARIES\n",
    "\n",
    "import csv\n",
    "import pandas\n",
    "import numpy as np\n",
    "import matplotlib.pyplot as plt\n",
    "import numpy as np\n",
    "\n",
    "# Constants\n",
    "N_TData = 2000;   # Training data set contains 2000 elements\n",
    "\n",
    "# Train data\n",
    "ID  = np.zeros(N_TData)\n",
    "y   = np.zeros(N_TData)\n",
    "x1  = np.zeros(N_TData)\n",
    "x2  = np.zeros(N_TData)\n",
    "x3  = np.zeros(N_TData)\n",
    "x4  = np.zeros(N_TData)\n",
    "x5  = np.zeros(N_TData)\n",
    "x6  = np.zeros(N_TData)\n",
    "x7  = np.zeros(N_TData)\n",
    "x8  = np.zeros(N_TData)\n",
    "x9  = np.zeros(N_TData)\n",
    "x10 = np.zeros(N_TData)\n",
    "x11 = np.zeros(N_TData)\n",
    "x12 = np.zeros(N_TData)\n",
    "x13 = np.zeros(N_TData)\n",
    "x14 = np.zeros(N_TData)\n",
    "x15 = np.zeros(N_TData)\n",
    "x16 = np.zeros(N_TData)\n",
    "\n",
    "# Reading the training data\n",
    "with open('train.csv') as csvfile:\n",
    "    reader = csv.DictReader(csvfile, delimiter = ',')\n",
    "    for row in reader:\n",
    "        ID[int(row['Id'])] = row['Id']\n",
    "        y[int(row['Id'])]  = np.float64(row['y'])\n",
    "        x1[int(row['Id'])] = np.float64(row['x1'])\n",
    "        x2[int(row['Id'])] = np.float64(row['x2'])\n",
    "        x3[int(row['Id'])] = np.float64(row['x3'])\n",
    "        x4[int(row['Id'])] = np.float64(row['x4'])\n",
    "        x5[int(row['Id'])] = np.float64(row['x5'])\n",
    "        x6[int(row['Id'])] = np.float64(row['x6'])\n",
    "        x7[int(row['Id'])] = np.float64(row['x7'])\n",
    "        x8[int(row['Id'])] = np.float64(row['x8'])\n",
    "        x9[int(row['Id'])] = np.float64(row['x9'])\n",
    "        x10[int(row['Id'])]= np.float64(row['x10'])\n",
    "        x11[int(row['Id'])] = np.float64(row['x11'])\n",
    "        x12[int(row['Id'])] = np.float64(row['x12'])\n",
    "        x13[int(row['Id'])] = np.float64(row['x13'])\n",
    "        x14[int(row['Id'])] = np.float64(row['x14'])\n",
    "        x15[int(row['Id'])]= np.float64(row['x15'])\n",
    "        x16[int(row['Id'])]= np.float64(row['x16'])\n",
    "        \n",
    "XTrain = (np.vstack((x1,x2,x3,x4,x5,x6,x7,x8,x9,x10,x11,x12,x13,x14,x15,x16))).T"
   ]
  },
  {
   "cell_type": "code",
   "execution_count": 40,
   "metadata": {},
   "outputs": [],
   "source": [
    "# Split data into training and validation set\n",
    "from sklearn.model_selection import train_test_split\n",
    "\n",
    "X_train, X_test, y_train, y_test = train_test_split(XTrain, y, test_size=0.1, random_state=42)"
   ]
  },
  {
   "cell_type": "code",
   "execution_count": 41,
   "metadata": {},
   "outputs": [],
   "source": [
    "# According to several sources this should improve results, however it decreases the prediction performance dramatically\n",
    "\n",
    "# # Data preprocessing\n",
    "\n",
    "# from sklearn.preprocessing import StandardScaler\n",
    "# scaler = StandardScaler()\n",
    "# scaler.fit(X_train)\n",
    "# StandardScaler(copy=True, with_mean=True, with_std=True)\n",
    "\n",
    "# X_train = scaler.transform(X_train)\n",
    "# X_test = scaler.transform(X_test)"
   ]
  },
  {
   "cell_type": "code",
   "execution_count": 44,
   "metadata": {},
   "outputs": [
    {
     "data": {
      "text/plain": [
       "MLPClassifier(activation='relu', alpha=0.06999999999999999, batch_size='auto',\n",
       "       beta_1=0.9, beta_2=0.999, early_stopping=False, epsilon=1e-08,\n",
       "       hidden_layer_sizes=(16, 16, 16, 16, 16), learning_rate='constant',\n",
       "       learning_rate_init=0.001, max_iter=100000000, momentum=0.9,\n",
       "       nesterovs_momentum=True, power_t=0.5, random_state=1, shuffle=True,\n",
       "       solver='lbfgs', tol=0.0001, validation_fraction=0.1, verbose=False,\n",
       "       warm_start=False)"
      ]
     },
     "execution_count": 44,
     "metadata": {},
     "output_type": "execute_result"
    }
   ],
   "source": [
    "# --- Training the neural network \n",
    "# Perform CV on alpha\n",
    "\n",
    "from sklearn.neural_network import MLPClassifier\n",
    "from sklearn.metrics import classification_report\n",
    "from sklearn.metrics import accuracy_score, f1_score\n",
    "\n",
    "# array of alphas\n",
    "alphas = np.linspace(1e-2,1e-0,100)\n",
    "\n",
    "# best alpha\n",
    "alphao = alphas[6]\n",
    "\n",
    "# result vector\n",
    "Results = np.zeros(alphas.shape)\n",
    "\n",
    "# for i,j in enumerate(alphas):\n",
    "#     clf = MLPClassifier(solver='lbfgs', alpha=j, random_state=1, hidden_layer_sizes=(16,16,16,16,16), max_iter = 1000000)\n",
    "#     clf.fit(X_train, y_train)  \n",
    "#     # --- Validate the NN\n",
    "\n",
    "#     y_pred = clf.predict(X_test) \n",
    "#     target_names = ['class 0', 'class 1', 'class 2']\n",
    "\n",
    "#     #print(classification_report(y_test, y_pred, target_names=target_names))\n",
    "\n",
    "#     Results[i] = f1_score(y_test, y_pred, average = 'macro')\n",
    "#     print(i, Results[i])\n",
    "\n",
    "clf = MLPClassifier(solver='lbfgs', alpha=alphao, random_state=1, hidden_layer_sizes=(16,16,16,16,16), max_iter = 100000000)\n",
    "clf.fit(X_train, y_train)"
   ]
  },
  {
   "cell_type": "code",
   "execution_count": 45,
   "metadata": {},
   "outputs": [
    {
     "name": "stdout",
     "output_type": "stream",
     "text": [
      "             precision    recall  f1-score   support\n",
      "\n",
      "    class 0       0.93      0.91      0.92        68\n",
      "    class 1       0.97      0.95      0.96        66\n",
      "    class 2       0.94      0.97      0.96        66\n",
      "\n",
      "avg / total       0.95      0.94      0.94       200\n",
      "\n"
     ]
    }
   ],
   "source": [
    "# Validation\n",
    "\n",
    "y_pred = clf.predict(X_test) \n",
    "target_names = ['class 0', 'class 1', 'class 2']\n",
    "\n",
    "print(classification_report(y_test, y_pred, target_names=target_names))"
   ]
  },
  {
   "cell_type": "code",
   "execution_count": 46,
   "metadata": {},
   "outputs": [],
   "source": [
    "# Import the testing data\n",
    "\n",
    "# Constants\n",
    "N_TestData = 3000;   # Training data set contains 3000 elements\n",
    "\n",
    "# Train data\n",
    "IDt  = np.zeros(N_TestData)\n",
    "yt   = np.zeros(N_TestData)\n",
    "x1t  = np.zeros(N_TestData)\n",
    "x2t  = np.zeros(N_TestData)\n",
    "x3t  = np.zeros(N_TestData)\n",
    "x4t  = np.zeros(N_TestData)\n",
    "x5t  = np.zeros(N_TestData)\n",
    "x6t  = np.zeros(N_TestData)\n",
    "x7t  = np.zeros(N_TestData)\n",
    "x8t  = np.zeros(N_TestData)\n",
    "x9t  = np.zeros(N_TestData)\n",
    "x10t = np.zeros(N_TestData)\n",
    "x11t = np.zeros(N_TestData)\n",
    "x12t = np.zeros(N_TestData)\n",
    "x13t = np.zeros(N_TestData)\n",
    "x14t = np.zeros(N_TestData)\n",
    "x15t = np.zeros(N_TestData)\n",
    "x16t = np.zeros(N_TestData)\n",
    "\n",
    "# Reading the training data\n",
    "with open('test.csv') as csvfile:\n",
    "    reader = csv.DictReader(csvfile, delimiter = ',')\n",
    "    for row in reader:\n",
    "        IDt[int(row['Id'])-2000] = row['Id']\n",
    "        x1t[int(row['Id'])-2000] = np.float64(row['x1'])\n",
    "        x2t[int(row['Id'])-2000] = np.float64(row['x2'])\n",
    "        x3t[int(row['Id'])-2000] = np.float64(row['x3'])\n",
    "        x4t[int(row['Id'])-2000] = np.float64(row['x4'])\n",
    "        x5t[int(row['Id'])-2000] = np.float64(row['x5'])\n",
    "        x6t[int(row['Id'])-2000] = np.float64(row['x6'])\n",
    "        x7t[int(row['Id'])-2000] = np.float64(row['x7'])\n",
    "        x8t[int(row['Id'])-2000] = np.float64(row['x8'])\n",
    "        x9t[int(row['Id'])-2000] = np.float64(row['x9'])\n",
    "        x10t[int(row['Id'])-2000] = np.float64(row['x10'])\n",
    "        x11t[int(row['Id'])-2000] = np.float64(row['x11'])\n",
    "        x12t[int(row['Id'])-2000] = np.float64(row['x12'])\n",
    "        x13t[int(row['Id'])-2000] = np.float64(row['x13'])\n",
    "        x14t[int(row['Id'])-2000] = np.float64(row['x14'])\n",
    "        x15t[int(row['Id'])-2000] = np.float64(row['x15'])\n",
    "        x16t[int(row['Id'])-2000] = np.float64(row['x16'])\n",
    "        \n",
    "XTestdaten = (np.vstack((x1t,x2t,x3t,x4t,x5t,x6t,x7t,x8t,x9t,x10t,x11t,x12t,x13t,x14t,x15t,x16t))).T"
   ]
  },
  {
   "cell_type": "code",
   "execution_count": 47,
   "metadata": {},
   "outputs": [],
   "source": [
    "# Predict the class of test data\n",
    "\n",
    "y_pred_test   = clf.predict(XTestdaten)"
   ]
  },
  {
   "cell_type": "code",
   "execution_count": 48,
   "metadata": {},
   "outputs": [],
   "source": [
    "# ----- WRITE DATA INTO CSV FILE\n",
    "with open('output_jens.csv', 'w',newline='') as outfile:\n",
    "    writer = csv.writer(outfile, delimiter = ',')\n",
    "    outfile.write('Id,y\\n')\n",
    "    for row in zip(IDt.astype(int), y_pred_test.astype(int)):\n",
    "        writer.writerow(row)"
   ]
  },
  {
   "cell_type": "code",
   "execution_count": null,
   "metadata": {},
   "outputs": [],
   "source": []
  }
 ],
 "metadata": {
  "kernelspec": {
   "display_name": "Python 3",
   "language": "python",
   "name": "python3"
  },
  "language_info": {
   "codemirror_mode": {
    "name": "ipython",
    "version": 3
   },
   "file_extension": ".py",
   "mimetype": "text/x-python",
   "name": "python",
   "nbconvert_exporter": "python",
   "pygments_lexer": "ipython3",
   "version": "3.6.4"
  }
 },
 "nbformat": 4,
 "nbformat_minor": 2
}
